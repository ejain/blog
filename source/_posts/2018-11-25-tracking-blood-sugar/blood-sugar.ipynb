{
 "cells": [
  {
   "cell_type": "code",
   "execution_count": null,
   "metadata": {},
   "outputs": [],
   "source": [
    "import datetime\n",
    "import glob\n",
    "import json\n",
    "import math\n",
    "\n",
    "import altair as alt\n",
    "import numpy as np\n",
    "import pandas as pd"
   ]
  },
  {
   "cell_type": "code",
   "execution_count": null,
   "metadata": {},
   "outputs": [],
   "source": [
    "timezone = \"America/Los_Angeles\"\n",
    "\n",
    "pd.set_option(\"max_colwidth\", 100)\n",
    "pd.set_option('display.max_rows', 500)\n",
    "\n",
    "# must remove data with ambiguous timestamps pending https://github.com/pandas-dev/pandas/pull/22825\n",
    "def remove_ambiguous_timestamps(df):\n",
    "    return df[~df.timestamp.between(\"2018-11-04 01:00-07:00\", \"2018-11-04 02:00-08:00\")]\n",
    "\n",
    "def merge_on_timestamp(a, b):\n",
    "    return pd.merge(a, b, how=\"outer\", on=[\"timestamp\"])"
   ]
  },
  {
   "cell_type": "markdown",
   "metadata": {},
   "source": [
    "### Load blood sugar readings exported from a Tidepool app."
   ]
  },
  {
   "cell_type": "code",
   "execution_count": null,
   "metadata": {},
   "outputs": [],
   "source": [
    "def read_glucose(path):\n",
    "    df = pd.read_json(path, convert_dates=[\"time\"])\n",
    "    df = df[df.type == \"cbg\"]\n",
    "    df[\"timestamp\"] = df.time.dt.tz_localize(\"UTC\").dt.tz_convert(timezone)\n",
    "    df[\"glucose\"] = (df[\"value\"] * 18.016).round() # convert mmol/L to mg/dL\n",
    "    df = df[[\"timestamp\", \"glucose\"]]\n",
    "    df[\"glucose_in_range\"] = df.glucose.between(70, 140)    \n",
    "    glucose_high = df.glucose - 100\n",
    "    glucose_high[glucose_high < 0] = 0\n",
    "    df[\"glucose_high\"] = glucose_high\n",
    "    df = remove_ambiguous_timestamps(df)\n",
    "    return df\n",
    "\n",
    "glucose = read_glucose(\"blip-input.json\")\n",
    "glucose.head()"
   ]
  },
  {
   "cell_type": "markdown",
   "metadata": {},
   "source": [
    "### Load food notes exported from the Tidepool app."
   ]
  },
  {
   "cell_type": "code",
   "execution_count": null,
   "metadata": {},
   "outputs": [],
   "source": [
    "def read_notes(path):\n",
    "    df = pd.read_json(path)\n",
    "    df.timestamp = df.timestamp.dt.tz_localize(\"UTC\").dt.tz_convert(timezone)\n",
    "    df = df[~pd.isnull(df.timestamp)][[\"timestamp\", \"messagetext\"]]\n",
    "    df = remove_ambiguous_timestamps(df)\n",
    "    return df\n",
    "\n",
    "notes = read_notes(\"blip-input.json\")\n",
    "notes.head()"
   ]
  },
  {
   "cell_type": "markdown",
   "metadata": {},
   "source": [
    "### Load hourly step counts exported from Zenobase."
   ]
  },
  {
   "cell_type": "code",
   "execution_count": null,
   "metadata": {},
   "outputs": [],
   "source": [
    "def read_steps(path):\n",
    "    df = pd.read_csv(path,\n",
    "        usecols=[\"count\", \"timestamp\"],\n",
    "        parse_dates=[\"timestamp\"],\n",
    "        index_col=False\n",
    "    )\n",
    "    df.columns = [\"steps\", \"timestamp\"]\n",
    "    df.timestamp = df.timestamp.dt.tz_localize(\"UTC\").dt.tz_convert(timezone)\n",
    "    df[\"end\"] = df.timestamp + pd.to_timedelta(1, unit=\"h\") - pd.to_timedelta(1, unit=\"s\")\n",
    "    df[\"activity_level\"] = pd.cut(df.steps, bins=[0, 10, 100, 1000, 10000], right=False, labels=False)\n",
    "    df = remove_ambiguous_timestamps(df)\n",
    "    return df\n",
    "\n",
    "steps = read_steps(\"steps.csv\")\n",
    "steps.tail()"
   ]
  },
  {
   "cell_type": "markdown",
   "metadata": {},
   "source": [
    "### Plot all data on a timeline."
   ]
  },
  {
   "cell_type": "code",
   "execution_count": null,
   "metadata": {},
   "outputs": [],
   "source": [
    "def plot_timeline(glucose, notes, steps, begin=None, end=None):\n",
    "    \n",
    "    data = merge_on_timestamp(glucose, notes)\n",
    "    data = merge_on_timestamp(data, steps)\n",
    "    \n",
    "    if begin:\n",
    "        data = data[(data.timestamp >= begin) & (data.timestamp < end)]\n",
    "    \n",
    "    glucose_chart = alt.Chart().mark_point(opacity=0.8).encode(\n",
    "        alt.X(\"hoursminutes(timestamp):T\", axis=alt.Axis(grid=False, title=None)),\n",
    "        alt.Y(\"glucose:Q\", axis=alt.Axis(grid=True, title=None), scale=alt.Scale(domain=[50, 200])),\n",
    "        color = alt.Color(\"glucose_in_range:O\", scale=alt.Scale(domain=[True, False], range=[\"steelblue\", \"red\"]), legend=None),\n",
    "        tooltip = [\"hoursminutes(timestamp):T\", \"glucose:Q\"],\n",
    "    ).transform_filter(\n",
    "        alt.datum.glucose >= 0\n",
    "    )\n",
    "\n",
    "    note_chart = alt.Chart().mark_rule(color=\"black\", opacity=0.8, strokeDash=[1, 1]).encode(\n",
    "        alt.X(\"hoursminutes(timestamp):T\"),\n",
    "        tooltip=[\"hoursminutes(timestamp):T\", \"messagetext:O\"],\n",
    "        size=alt.value(2)\n",
    "    ).transform_filter(\n",
    "        alt.datum.messagetext\n",
    "    )\n",
    "\n",
    "    activity_chart = alt.Chart().mark_rect(opacity=0.2).encode(\n",
    "        x=\"hoursminutes(timestamp):T\",\n",
    "        x2=\"hoursminutes(end):T\",\n",
    "        color=alt.Color(\"activity_level:Q\", scale=alt.Scale(scheme=\"greys\"), legend=None),\n",
    "        tooltip=[\"hoursminutes(timestamp):T\", \"steps:Q\"]\n",
    "    ).transform_filter(\n",
    "        alt.datum.steps >= 0\n",
    "    )\n",
    "\n",
    "    return alt.layer(\n",
    "        activity_chart,\n",
    "        note_chart,\n",
    "        glucose_chart,\n",
    "        data=data\n",
    "    ).properties(\n",
    "        width=1200,\n",
    "        height=100\n",
    "    ).interactive(\n",
    "        bind_y = False\n",
    "    ).resolve_scale(\n",
    "        x=\"shared\", \n",
    "        color=\"independent\"\n",
    "    ).facet(\n",
    "        row=alt.Row(\"yearmonthdate(timestamp):T\", title=None)\n",
    "    )\n",
    "\n",
    "plot_timeline(glucose, notes, steps, \"2018-10-28\", \"2018-11-11\")"
   ]
  },
  {
   "cell_type": "markdown",
   "metadata": {},
   "source": [
    "### Compare apples to apples."
   ]
  },
  {
   "cell_type": "code",
   "execution_count": null,
   "metadata": {},
   "outputs": [],
   "source": [
    "def find_notes(notes, text):\n",
    "    return notes[notes.messagetext.str.contains(text)].sort_values(by=[\"timestamp\"])\n",
    "\n",
    "find_notes(notes, \"apple\")"
   ]
  },
  {
   "cell_type": "code",
   "execution_count": null,
   "metadata": {},
   "outputs": [],
   "source": [
    "def plot_experiment(glucose, experiments):\n",
    "    data = []\n",
    "    for experiment in experiments:\n",
    "        begin, end, label = experiment\n",
    "        begin = pd.to_datetime(begin).tz_localize(timezone)\n",
    "        end = pd.to_datetime(end).tz_localize(timezone)\n",
    "        for i, row in glucose[glucose.timestamp.between(begin, end)].iterrows():\n",
    "            data.append({\n",
    "                \"label\" : label,\n",
    "                \"time\" : (row[\"timestamp\"] - begin).total_seconds() // 60,\n",
    "                \"glucose\" : row[\"glucose\"],\n",
    "                \"begin\" : begin,\n",
    "                \"end\" : end\n",
    "            })\n",
    "    df = pd.DataFrame(data)\n",
    "\n",
    "    scale_x = alt.Scale(domain=[0, 180])\n",
    "    scale_y = alt.Scale(domain=[50, 200])\n",
    "    highlight = alt.selection(type=\"multi\", on=\"click\", fields=[\"begin\"], nearest=True)\n",
    "    chart = alt.Chart().encode(\n",
    "        y=alt.Y(\"glucose:Q\", axis=alt.Axis(grid=True, title=\"blood glucose (mg/dL)\"), scale=scale_y)\n",
    "    )    \n",
    "    base = chart.encode(\n",
    "        x=alt.X(\"time:Q\", axis=alt.Axis(grid=True, title=\"time (minutes)\"), scale=scale_x),\n",
    "        color=alt.Color(\"begin:O\", legend=None, scale=alt.Scale(range=[\"steelblue\"])),\n",
    "        tooltip=[\"time:Q\", \"glucose:Q\", \"label:O\", \"begin:O\", \"end:O\"]\n",
    "    )\n",
    "    points = base.mark_point(clip=True).encode(\n",
    "        opacity=alt.value(0)\n",
    "    )\n",
    "    lines = base.mark_line(interpolate=\"basis\", clip=True).encode(\n",
    "        size=alt.condition(~highlight, alt.value(2), alt.value(3)),\n",
    "        opacity=alt.condition(~highlight, alt.value(0.4), alt.value(0.8))\n",
    "    ).add_selection(\n",
    "        highlight\n",
    "    )\n",
    "    band_df = pd.DataFrame([{\n",
    "        \"x_min\" : 0,\n",
    "        \"x_max\" : 180,\n",
    "        \"y_min\" : 70,\n",
    "        \"y_max\" : 140\n",
    "    }])\n",
    "    band = alt.Chart(band_df).mark_rect(color=\"lightgray\", opacity=0.3).encode(\n",
    "        x=alt.X(\"x_min:Q\", scale=scale_x),\n",
    "        x2=alt.X(\"x_max:Q\"),\n",
    "        y=alt.Y(\"y_min:Q\", scale=scale_y),\n",
    "        y2=alt.Y(\"y_max:Q\")\n",
    "    )    \n",
    "    return alt.layer(band, alt.layer(lines, points, data=df))\n",
    "\n",
    "plot_experiment(glucose, [\n",
    "    (\"2018-10-31 15:19\", \"2018-10-31 18:45\", \"apple juice\"),\n",
    "    (\"2018-11-09 16:02\", \"2018-11-09 18:07\", \"apple\"),\n",
    "    (\"2018-11-21 15:27\", \"2018-11-21 18:00\", \"apple juice + walking\"),\n",
    "])"
   ]
  },
  {
   "cell_type": "markdown",
   "metadata": {},
   "source": [
    "### Correlate step counts with blood sugar levels the next day."
   ]
  },
  {
   "cell_type": "code",
   "execution_count": null,
   "metadata": {},
   "outputs": [],
   "source": [
    "def steps_vs_glucose(steps, glucose):\n",
    "    data= merge_on_timestamp(steps.groupby(steps.timestamp.dt.date).sum(), glucose.groupby(glucose.timestamp.dt.date).mean().shift()).reset_index()[[\"steps\", \"glucose\"]]\n",
    "    c1 = alt.Chart(data).mark_point().encode(\n",
    "        alt.X(\"glucose:Q\", title=\"mean glucose (mg/dL)\", scale = alt.Scale(zero=False)),\n",
    "        alt.Y(\"steps:Q\", title=\"steps previous day\")\n",
    "    ).properties(\n",
    "        width = 250,\n",
    "        height = 250\n",
    "    )\n",
    "    data= merge_on_timestamp(steps.groupby(steps.timestamp.dt.date).sum(), glucose.groupby(glucose.timestamp.dt.date).mean().shift()).reset_index()[[\"steps\", \"glucose_in_range\"]]\n",
    "    c2 = alt.Chart(data).mark_point().encode(\n",
    "        alt.X(\"glucose_in_range:Q\", title=\"in range\", scale = alt.Scale(zero=False), axis=alt.Axis(format=\"%\")),\n",
    "        alt.Y(\"steps:Q\", title=None)\n",
    "    ).properties(\n",
    "        width = 250,\n",
    "        height = 250\n",
    "    )\n",
    "    data= merge_on_timestamp(steps.groupby(steps.timestamp.dt.date).sum(), glucose.groupby(glucose.timestamp.dt.date).sum().shift()).reset_index()[[\"steps\", \"glucose_high\"]]\n",
    "    c3 = alt.Chart(data).mark_point().encode(\n",
    "        alt.X(\"glucose_high:Q\", title=\"above 100mg/dL\", scale = alt.Scale(zero=True)),\n",
    "        alt.Y(\"steps:Q\", title=None)\n",
    "    ).properties(\n",
    "        width = 250,\n",
    "        height = 250\n",
    "    )\n",
    "    return c1 | c2 | c3\n",
    "\n",
    "steps_vs_glucose(steps, glucose)"
   ]
  },
  {
   "cell_type": "code",
   "execution_count": null,
   "metadata": {},
   "outputs": [],
   "source": []
  }
 ],
 "metadata": {
  "kernelspec": {
   "display_name": "Python 3",
   "language": "python",
   "name": "python3"
  },
  "language_info": {
   "codemirror_mode": {
    "name": "ipython",
    "version": 3
   },
   "file_extension": ".py",
   "mimetype": "text/x-python",
   "name": "python",
   "nbconvert_exporter": "python",
   "pygments_lexer": "ipython3",
   "version": "3.6.7"
  }
 },
 "nbformat": 4,
 "nbformat_minor": 2
}

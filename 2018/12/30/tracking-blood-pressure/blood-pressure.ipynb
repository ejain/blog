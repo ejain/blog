{
 "cells": [
  {
   "cell_type": "code",
   "execution_count": null,
   "metadata": {},
   "outputs": [],
   "source": [
    "import datetime\n",
    "\n",
    "import altair as alt\n",
    "import numpy as np\n",
    "import pandas as pd\n",
    "\n",
    "from sklearn import linear_model"
   ]
  },
  {
   "cell_type": "markdown",
   "metadata": {},
   "source": [
    "### Load blood pressure readings from a spreadsheet exported from the Balance Health app.\n",
    "Each set of 3 readings is considered to be part of the same measurement."
   ]
  },
  {
   "cell_type": "code",
   "execution_count": null,
   "metadata": {},
   "outputs": [],
   "source": [
    "def load_readings(path, tz=\"America/Los_Angeles\"):\n",
    "    df = pd.read_csv(path, parse_dates=[\"Date/Time\"])\n",
    "    df[\"Timestamp\"] = df[\"Date/Time\"].dt.tz_localize(\"UTC\").dt.tz_convert(tz)\n",
    "    df[\"Measurement\"] = (df.index / 3).astype(int)\n",
    "    df[\"Index\"] = df.groupby(\"Measurement\").cumcount()\n",
    "    df[\"Pulse Pressure\"] = df[\"Systolic\"] - df[\"Diastolic\"]\n",
    "    df.drop(columns=[\"Date/Time\"], axis=1, inplace=True)\n",
    "    return df\n",
    "\n",
    "readings = load_readings(\"history.csv\")\n",
    "readings.tail(10)"
   ]
  },
  {
   "cell_type": "markdown",
   "metadata": {},
   "source": [
    "### How much do readings change within a single measurement?"
   ]
  },
  {
   "cell_type": "code",
   "execution_count": null,
   "metadata": {},
   "outputs": [],
   "source": [
    "fields = [ \"Systolic\", \"Diastolic\", \"Pulse Pressure\", \"Pulse\" ]"
   ]
  },
  {
   "cell_type": "code",
   "execution_count": null,
   "metadata": {},
   "outputs": [],
   "source": [
    "for field in fields:\n",
    "    std = np.sqrt(readings.groupby(\"Measurement\")[field].var().mean())\n",
    "    print(\"{:10}: ±{:.2f}\".format(field, std))"
   ]
  },
  {
   "cell_type": "code",
   "execution_count": null,
   "metadata": {},
   "outputs": [],
   "source": [
    "def measurement_deltas(readings):\n",
    "    deltas = readings.pivot(index=\"Measurement\", columns=\"Index\", values=fields)\n",
    "    for field in set(deltas.columns.get_level_values(0)):\n",
    "        deltas[field] -= pd.concat([ deltas[field, 0], deltas[field, 0], deltas[field, 0] ], axis=1, ignore_index=True)\n",
    "    deltas = pd.melt(deltas)\n",
    "    deltas.columns = [ \"field\", \"index\", \"value\" ]\n",
    "    return deltas\n",
    "\n",
    "deltas = measurement_deltas(readings)\n",
    "deltas.groupby([\"field\", \"index\"]).describe()"
   ]
  },
  {
   "cell_type": "code",
   "execution_count": null,
   "metadata": {},
   "outputs": [],
   "source": [
    "alt.Chart(deltas).mark_bar(opacity=0.8).encode(\n",
    "    x=alt.X(\"index:O\", axis=alt.Axis(title=\"Reading #\")), \n",
    "    y=alt.Y(\"mean(value):Q\", axis=alt.Axis(title=\"mean difference from first reading\")),\n",
    "    column=alt.Column(\"field\", title=None)\n",
    ").transform_filter(\n",
    "    alt.datum.field != \"Pulse Pressure\"\n",
    ").properties(\n",
    "    height=250,\n",
    "    width=100\n",
    ")"
   ]
  },
  {
   "cell_type": "markdown",
   "metadata": {},
   "source": [
    "### Do any of the measured values correlate?"
   ]
  },
  {
   "cell_type": "code",
   "execution_count": null,
   "metadata": {},
   "outputs": [],
   "source": [
    "alt.Chart(readings).mark_circle().encode(\n",
    "    alt.X(alt.repeat(\"column\"), type = \"quantitative\", scale = alt.Scale(zero = False)),\n",
    "    alt.Y(alt.repeat(\"row\"), type = \"quantitative\", scale = alt.Scale(zero = False))\n",
    ").properties(\n",
    "    width = 150,\n",
    "    height = 150\n",
    ").repeat(\n",
    "    row = [ \"Systolic\", \"Diastolic\", \"Pulse\" ],\n",
    "    column = [ \"Systolic\", \"Diastolic\", \"Pulse\" ]\n",
    ")"
   ]
  },
  {
   "cell_type": "code",
   "execution_count": null,
   "metadata": {},
   "outputs": [],
   "source": [
    "readings.corr()"
   ]
  },
  {
   "cell_type": "markdown",
   "metadata": {},
   "source": [
    "### Show the median values for each measurement on a timeline."
   ]
  },
  {
   "cell_type": "code",
   "execution_count": null,
   "metadata": {},
   "outputs": [],
   "source": [
    "def plot_timeline(measurements):\n",
    "    timeline = alt.Chart(measurements).encode(\n",
    "        alt.X(\"Timestamp:T\", axis=alt.Axis(title=None))\n",
    "    ).properties(\n",
    "        width = 1000\n",
    "    )\n",
    "\n",
    "    systolic = timeline.mark_circle(opacity=0.6).encode(\n",
    "        alt.Y(\"Systolic:Q\", scale = alt.Scale(zero=False)),\n",
    "        tooltip=[alt.Tooltip(\"Timestamp:T\", format=\"%x %X\"), \"Systolic\"]\n",
    "    )\n",
    "\n",
    "    diastolic = timeline.mark_circle(opacity=0.6).encode(\n",
    "        alt.Y(\"Diastolic:Q\", scale = alt.Scale(zero=False)),\n",
    "        tooltip=[alt.Tooltip(\"Timestamp:T\", format=\"%x %X\"), \"Diastolic\"]\n",
    "    )\n",
    "\n",
    "    pressure_range = timeline.mark_rule(opacity=0.6, color=\"steelblue\").encode(\n",
    "        alt.Y(\"Systolic:Q\", scale = alt.Scale(zero=False), axis=alt.Axis(title=\"mmHg\")),\n",
    "        alt.Y2(\"Diastolic:Q\")\n",
    "    )\n",
    "\n",
    "    pressure_median = alt.Chart(measurements).mark_rect(opacity=0.1, color=\"gray\").encode(\n",
    "        alt.Y(\"median(Systolic):Q\"),\n",
    "        alt.Y2(\"median(Diastolic):Q\")\n",
    "    )\n",
    "\n",
    "    pressure = alt.layer(\n",
    "        pressure_range,\n",
    "        systolic,\n",
    "        diastolic\n",
    "    ).properties(\n",
    "        height=200\n",
    "    ).interactive(\n",
    "        bind_y = False\n",
    "    )\n",
    "\n",
    "    pulse = timeline.mark_tick().encode(\n",
    "        alt.Y(\"Pulse:Q\", scale=alt.Scale(domain=[50, 100]), axis=alt.Axis(title=\"bpm\", grid=False)),\n",
    "        tooltip=[alt.Tooltip(\"Timestamp:T\", format=\"%x %X\"), \"Pulse\"]\n",
    "    ).properties(\n",
    "        height=50\n",
    "    )\n",
    "\n",
    "    return alt.vconcat(pressure_median + pressure, pulse).resolve_scale(\n",
    "        x=\"shared\"\n",
    "    )"
   ]
  },
  {
   "cell_type": "code",
   "execution_count": null,
   "metadata": {},
   "outputs": [],
   "source": [
    "def groupby_measurement(readings, field=fields):\n",
    "    df = readings.groupby(\"Measurement\")[fields].median()\n",
    "    df[\"Timestamp\"] = readings.groupby(\"Measurement\")[\"Timestamp\"].first()\n",
    "    df[\"Note\"] = readings.groupby(\"Measurement\")[\"Note\"].first()\n",
    "    return df\n",
    "\n",
    "measurements = groupby_measurement(readings)\n",
    "measurements.tail(10)"
   ]
  },
  {
   "cell_type": "code",
   "execution_count": null,
   "metadata": {},
   "outputs": [],
   "source": [
    "plot_timeline(measurements)"
   ]
  },
  {
   "cell_type": "markdown",
   "metadata": {},
   "source": [
    "### Show the daily measurement on a timeline.\n",
    "\n",
    "The \"daily measurement\" is the first measurement taken each day, excluding measurements with notes."
   ]
  },
  {
   "cell_type": "code",
   "execution_count": null,
   "metadata": {},
   "outputs": [],
   "source": [
    "daily_measurements = measurements[measurements[\"Note\"].isna()].groupby(measurements[\"Timestamp\"].dt.date).first()\n",
    "daily_measurements.tail()"
   ]
  },
  {
   "cell_type": "code",
   "execution_count": null,
   "metadata": {},
   "outputs": [],
   "source": [
    "plot_timeline(daily_measurements)"
   ]
  },
  {
   "cell_type": "markdown",
   "metadata": {},
   "source": [
    "### Are there any trends in the daily measurements?"
   ]
  },
  {
   "cell_type": "code",
   "execution_count": null,
   "metadata": {},
   "outputs": [],
   "source": [
    "def trend_per_day(measurements, field):\n",
    "    X = (measurements[\"Timestamp\"] - measurements[\"Timestamp\"][0]).dt.days.values.reshape(-1, 1)\n",
    "    r = linear_model.LinearRegression().fit(X, measurements[field])\n",
    "    print(field, r.intercept_, r.coef_)\n",
    "\n",
    "for field in fields:\n",
    "    trend_per_day(daily_measurements, field)"
   ]
  },
  {
   "cell_type": "markdown",
   "metadata": {},
   "source": [
    "### Does the time a daily measurement was taken matter?"
   ]
  },
  {
   "cell_type": "code",
   "execution_count": null,
   "metadata": {},
   "outputs": [],
   "source": [
    "def trend_per_hour(measurements, field):\n",
    "    time_of_day = measurements[\"Timestamp\"].dt.hour * 60 + measurements[\"Timestamp\"].dt.minute\n",
    "    X = time_of_day.values.reshape(-1, 1)\n",
    "    r = linear_model.LinearRegression().fit(X, measurements[field])\n",
    "    print(field, r.intercept_, r.coef_)\n",
    "    return pd.DataFrame({\"Timestamp\": measurements[\"Timestamp\"], field: r.predict(X)})\n",
    "\n",
    "def plot_trend_per_hour(measurements, field):\n",
    "    chart = alt.Chart(daily_measurements).mark_circle().encode(\n",
    "        alt.X(\"hoursminutes(Timestamp):T\", title=\"Time of Day\"),\n",
    "        alt.Y(field, type = \"quantitative\", scale = alt.Scale(zero = False)),\n",
    "        tooltip=[alt.Tooltip(\"Timestamp:T\", format=\"%x %X\")]\n",
    "    ).properties(\n",
    "        width = 600,\n",
    "        height = 150\n",
    "    ).interactive(\n",
    "        bind_y = False\n",
    "    )\n",
    "    chart_fit = alt.Chart(trend_per_hour(measurements, field)).mark_line(strokeDash=[5, 5], opacity=0.5).encode(x=\"hoursminutes(Timestamp):T\", y=field)\n",
    "    return chart + chart_fit\n",
    "\n",
    "alt.vconcat(*[plot_trend_per_hour(daily_measurements, field) for field in fields])"
   ]
  },
  {
   "cell_type": "markdown",
   "metadata": {},
   "source": [
    "### Does the amount of exercise during the previous 7 days affect blood pressure?\n",
    "\n",
    "Load the total number of calories burned each day (exported as a spreadsheet from Fitbit via Zenobase)."
   ]
  },
  {
   "cell_type": "code",
   "execution_count": null,
   "metadata": {},
   "outputs": [],
   "source": [
    "def load_calories(path=\"steps.csv\", tz=\"America/Los_Angeles\"):\n",
    "    data = pd.read_csv(path, parse_dates=[\"timestamp\"])\n",
    "    df = pd.DataFrame(data={\n",
    "        \"Timestamp\": data[\"timestamp\"].dt.tz_localize(\"UTC\").dt.tz_convert(tz).dt.date,\n",
    "        \"Calories\": data[\"energy.@value\"]\n",
    "    })\n",
    "    return df.set_index(\"Timestamp\")\n",
    "\n",
    "calories = load_calories()\n",
    "calories.head(10)"
   ]
  },
  {
   "cell_type": "code",
   "execution_count": null,
   "metadata": {},
   "outputs": [],
   "source": [
    "calories.rolling(7).sum().shift(1).join(daily_measurements).corr()"
   ]
  },
  {
   "cell_type": "code",
   "execution_count": null,
   "metadata": {},
   "outputs": [],
   "source": []
  }
 ],
 "metadata": {
  "kernelspec": {
   "display_name": "Python 3",
   "language": "python",
   "name": "python3"
  },
  "language_info": {
   "codemirror_mode": {
    "name": "ipython",
    "version": 3
   },
   "file_extension": ".py",
   "mimetype": "text/x-python",
   "name": "python",
   "nbconvert_exporter": "python",
   "pygments_lexer": "ipython3",
   "version": "3.6.7"
  }
 },
 "nbformat": 4,
 "nbformat_minor": 2
}
